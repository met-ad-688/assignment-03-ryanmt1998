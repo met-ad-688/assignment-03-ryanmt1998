{
  "cells": [
    {
      "cell_type": "raw",
      "metadata": {},
      "source": [
        "---\n",
        "title: Assignment 03\n",
        "author:\n",
        "  - name: Ryan Martin\n",
        "    affiliations:\n",
        "      - id: bu\n",
        "        name: Boston University\n",
        "        city: Boston\n",
        "        state: MA\n",
        "number-sections: true\n",
        "date: '2025-09-24'\n",
        "format:\n",
        "  html:\n",
        "    theme: cerulean\n",
        "    toc: true\n",
        "    toc-depth: 2\n",
        "  docx: default\n",
        "  pdf: default\n",
        "execute:\n",
        "  freeze: auto\n",
        "date-modified: today\n",
        "date-format: long\n",
        "---"
      ],
      "id": "2bed4126"
    },
    {
      "cell_type": "code",
      "metadata": {},
      "source": [
        "#| eval: true\n",
        "#| echo: true\n",
        "#| fig-align: center\n",
        "\n",
        "from pyspark.sql import SparkSession\n",
        "import pandas as pd\n",
        "import plotly.express as px\n",
        "import plotly.io as pio\n",
        "pio.renderers.default = \"svg\"\n",
        "import re\n",
        "import numpy as np\n",
        "import plotly.graph_objects as go\n",
        "from pyspark.sql.functions import col, split, explode, regexp_replace, transform, when\n",
        "from pyspark.sql import functions as F\n",
        "from pyspark.sql.functions import col, monotonically_increasing_id\n",
        "\n",
        "np.random.seed(42)\n",
        "\n",
        "pio.renderers.default = \"notebook\"\n",
        "\n",
        "# Initialize Spark Session\n",
        "spark = SparkSession.builder.appName(\"LightcastData\").getOrCreate()\n",
        "\n",
        "# Load Data\n",
        "df = spark.read.option(\"header\", \"true\").option(\"inferSchema\", \"true\").option(\"multiLine\",\"true\").option(\"escape\", \"\\\"\").csv(\"lightcast_job_postings.csv\")\n",
        "\n",
        "# Show Schema and Sample Data\n",
        "#print(\"---This is Diagnostic check, No need to print it in the final doc---\")\n",
        "\n",
        "#df.printSchema() # comment this line when rendering the submission\n",
        "#df.show(5)\n"
      ],
      "id": "48558763",
      "execution_count": null,
      "outputs": []
    },
    {
      "cell_type": "code",
      "metadata": {},
      "source": [
        "print(df.columns)\n"
      ],
      "id": "56022d32",
      "execution_count": null,
      "outputs": []
    },
    {
      "cell_type": "markdown",
      "metadata": {},
      "source": [
        "## Data Preperation\n"
      ],
      "id": "0fefe233"
    },
    {
      "cell_type": "code",
      "metadata": {},
      "source": [
        "df = df.withColumn(\"SALARY\", col(\"SALARY\").cast(\"float\")) \\\n",
        "      .withColumn(\"SALARY_FROM\", col(\"SALARY_FROM\").cast(\"float\")) \\\n",
        "      .withColumn(\"SALARY_TO\", col(\"SALARY_TO\").cast(\"float\")) \\\n",
        "      .withColumn(\"MIN_YEARS_EXPERIENCE\", col(\"MIN_YEARS_EXPERIENCE\").cast(\"float\")) \\\n",
        "      .withColumn(\"MAX_YEARS_EXPERIENCE\", col(\"MAX_YEARS_EXPERIENCE\").cast(\"float\")) \\\n",
        "      \n",
        "def compute_median(sdf, col_name):\n",
        "  q = sdf.approxQuantile(col_name, [0.5], 0.01)\n",
        "  return q[0] if q else None\n",
        "\n",
        "median_from = compute_median(df, \"SALARY_FROM\")\n",
        "median_to = compute_median(df, \"SALARY_TO\")\n",
        "\n",
        "print(\"Medians:\", median_from, median_to)\n",
        "\n",
        "df = df.fillna({\n",
        "      \"SALARY_FROM\": median_from,\n",
        "      \"SALARY_TO\": median_to\n",
        "})\n",
        "\n",
        "df= df.withColumn(\"Average_Salary\", (col(\"SALARY_FROM\") + col(\"SALARY_TO\")) / 2)\n",
        "\n",
        "\n",
        "export_cols = [\n",
        "    \"EDUCATION_LEVELS_NAME\",\n",
        "    \"REMOTE_TYPE_NAME\",\n",
        "    \"MAX_YEARS_EXPERIENCE\",\n",
        "    \"Average_Salary\",\n",
        "    \"LOT_V6_SPECIALIZED_OCCUPATION_NAME\"\n",
        "] \n",
        "\n",
        "df_selected = df.select(*export_cols)\n",
        "\n",
        "pdf = df_selected.toPandas()\n",
        "pdf.to_csv(\"lightcast_cleaned.csv\", index=False)\n",
        "\n",
        "\n",
        "print(\"Data Cleaning Complete. Rows retained:\", len(pdf))"
      ],
      "id": "4c18c9e4",
      "execution_count": null,
      "outputs": []
    },
    {
      "cell_type": "code",
      "metadata": {},
      "source": [
        "#Histogram of Salary Distribution\n",
        "\n",
        "fig = px.histogram(df.toPandas(), x=\"SALARY\", nbins=50, title=\"Salary Distribution\")\n",
        "fig.update_layout(bargap=0.1)\n"
      ],
      "id": "c9420452",
      "execution_count": null,
      "outputs": []
    }
  ],
  "metadata": {
    "kernelspec": {
      "name": "python3",
      "language": "python",
      "display_name": "Python 3 (ipykernel)"
    }
  },
  "nbformat": 4,
  "nbformat_minor": 5
}